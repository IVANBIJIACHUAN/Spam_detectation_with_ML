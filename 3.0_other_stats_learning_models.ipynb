{
 "cells": [
  {
   "cell_type": "markdown",
   "metadata": {},
   "source": [
    "# SVM"
   ]
  },
  {
   "cell_type": "code",
   "execution_count": 2,
   "metadata": {},
   "outputs": [],
   "source": [
    "import numpy as np\n",
    "import pandas as pd\n",
    "from sklearn.model_selection import train_test_split, cross_validate\n",
    "from sklearn.metrics import roc_auc_score\n",
    "from sklearn.model_selection import GridSearchCV\n",
    "\n",
    "import pickle\n",
    "import sys \n",
    "sys.path.append(\"../../\")\n",
    "from E4525_ML import text"
   ]
  },
  {
   "cell_type": "code",
   "execution_count": 8,
   "metadata": {},
   "outputs": [
    {
     "name": "stdout",
     "output_type": "stream",
     "text": [
      "----------------------------------------------------------------\n",
      "set feature: \n",
      "[0.97643157 0.95783366 0.94494609 0.90969739 0.85912073]\n",
      "The best alpha is 1\n",
      "The best gamma is 0.1\n",
      "The 5-fold auc is 0.9764315660633169\n",
      "The 5-fold acc is 0.915764705882353\n",
      "auc on test set is 0.9822184556363383\n",
      "Accuracy on test set is 0.9233333333333333\n",
      "----------------------------------------------------------------\n",
      "count feature: \n",
      "[0.97678289 0.96158607 0.94235695 0.90664906 0.85706971]\n",
      "The best alpha is 1\n",
      "The best gamma is 0.1\n",
      "The 5-fold auc is 0.9767828877063442\n",
      "The 5-fold acc is 0.9156470588235294\n",
      "auc on test set is 0.9823196862370509\n",
      "Accuracy on test set is 0.924\n",
      "----------------------------------------------------------------\n",
      "tfidf feature: \n",
      "[0.96400107 0.96853357 0.97242232 0.95806268 0.95322456]\n",
      "The best alpha is 1\n",
      "The best gamma is 1\n",
      "The 5-fold auc is 0.9724223219823693\n",
      "The 5-fold acc is 0.9342352941176472\n",
      "auc on test set is 0.9761355347960722\n",
      "Accuracy on test set is 0.938\n"
     ]
    },
    {
     "data": {
      "text/plain": [
       "(<8500x36750 sparse matrix of type '<class 'numpy.float64'>'\n",
       " \twith 37516 stored elements in Compressed Sparse Row format>,\n",
       " <1500x36750 sparse matrix of type '<class 'numpy.float64'>'\n",
       " \twith 6438 stored elements in Compressed Sparse Row format>,\n",
       " array([1, 1, 0, ..., 1, 1, 1], dtype=int64),\n",
       " array([1, 0, 1, ..., 1, 1, 1], dtype=int64))"
      ]
     },
     "execution_count": 8,
     "metadata": {},
     "output_type": "execute_result"
    }
   ],
   "source": [
    "from sklearn.svm import SVC\n",
    "\n",
    "def SVM_subject_model(feature=\"set\",n=-1):\n",
    "    \n",
    "    # load subject features\n",
    "    data_dir = \"subject_feature\"\n",
    "\n",
    "    set_vectorizer_filename=   data_dir+\"/{}_vectorizer.p\".format(feature)\n",
    "    set_features_filename=     data_dir+\"/{}_features.p\".format(feature)\n",
    "    labels_filename=     data_dir+\"/labels.p\"\n",
    "\n",
    "    labels=pickle.load(open( labels_filename, \"rb\" ) )\n",
    "    X_set_subject=pickle.load(open( set_features_filename, \"rb\" ) )\n",
    "    \n",
    "    if n!=-1:\n",
    "        labels=labels[:n]\n",
    "        X_set_subject=X_set_subject[:n]\n",
    "    \n",
    "    # split train and test data set\n",
    "    x_train,x_test,y_train,y_test=train_test_split(X_set_subject,labels,shuffle=True,random_state=42,test_size=0.15)\n",
    "    \n",
    "    # Select the best hyper param alpha\n",
    "    param_grid={\"C\":[1],\"gamma\":[0.1,0.5,1,10,20]}\n",
    "    model=SVC(probability=True)\n",
    "    g=GridSearchCV(model,param_grid,cv=5, scoring=[\"roc_auc\",\"accuracy\"],n_jobs=-1,refit=\"roc_auc\")\n",
    "    g.fit(x_train, y_train)\n",
    "    \n",
    "    print(\"{} feature: \".format(feature))\n",
    "    print(g.cv_results_['mean_test_roc_auc'])\n",
    "    print(\"The best alpha is\",g.best_estimator_.get_params()[\"C\"])\n",
    "    print(\"The best gamma is\",g.best_estimator_.get_params()[\"gamma\"])\n",
    "    print(\"The 5-fold auc is\",g.cv_results_['mean_test_roc_auc'].max())\n",
    "    print(\"The 5-fold acc is\",g.cv_results_['mean_test_accuracy'].max())\n",
    "    \n",
    "    Y_pred=g.best_estimator_.predict_proba(x_test)\n",
    "    print(\"auc on test set is\",roc_auc_score(y_test,Y_pred[:,1]))\n",
    "    print(\"Accuracy on test set is\",np.mean(g.best_estimator_.predict(x_test)==y_test))\n",
    "    \n",
    "    return x_train,x_test,y_train,y_test\n",
    "\n",
    "print(\"----------------------------------------------------------------\")\n",
    "SVM_subject_model(feature=\"set\",n=10000)\n",
    "print(\"----------------------------------------------------------------\")\n",
    "SVM_subject_model(feature=\"count\",n=10000)\n",
    "print(\"----------------------------------------------------------------\")\n",
    "SVM_subject_model(feature=\"tfidf\",n=10000)"
   ]
  },
  {
   "cell_type": "markdown",
   "metadata": {},
   "source": [
    "# NB model"
   ]
  },
  {
   "cell_type": "code",
   "execution_count": 9,
   "metadata": {},
   "outputs": [
    {
     "name": "stdout",
     "output_type": "stream",
     "text": [
      "----------------------------------------------------------------\n",
      "set feature: \n",
      "[0.9841144204850073, 0.9844869246536755, 0.9835653935967231, 0.9819905969870788, 0.9704602255366183, 0.9534588434005604, 0.9467589447479907]\n",
      "The best alpha is 0.001\n",
      "The 5-fold auc of NB is 0.9844869246536755\n",
      "The 5-fold accuracy of NB is 0.9358823529411765\n",
      "auc on test set is 0.9863507406705619\n",
      "Accuracy on test set is 0.948\n",
      "----------------------------------------------------------------\n",
      "count feature: \n",
      "[0.9842224695737922, 0.9844691227791511, 0.9832119523683425, 0.9814791392441075, 0.9693363778604583, 0.9511886158436933, 0.9436412171162448]\n",
      "The best alpha is 0.001\n",
      "The 5-fold auc of NB is 0.9844691227791511\n",
      "The 5-fold accuracy of NB is 0.9349411764705883\n",
      "auc on test set is 0.9865713714669871\n",
      "Accuracy on test set is 0.9433333333333334\n",
      "----------------------------------------------------------------\n",
      "tfidf feature: \n",
      "[0.9835362291759019, 0.983872486056024, 0.984007003358706, 0.9810784025925227, 0.9698360270387457, 0.9590222274095248, 0.9563459315782279]\n",
      "The best alpha is 0.1\n",
      "The 5-fold auc of NB is 0.984007003358706\n",
      "The 5-fold accuracy of NB is 0.9427058823529413\n",
      "auc on test set is 0.9857251874712857\n",
      "Accuracy on test set is 0.9413333333333334\n"
     ]
    },
    {
     "data": {
      "text/plain": [
       "(<8500x36750 sparse matrix of type '<class 'numpy.float64'>'\n",
       " \twith 37516 stored elements in Compressed Sparse Row format>,\n",
       " <1500x36750 sparse matrix of type '<class 'numpy.float64'>'\n",
       " \twith 6438 stored elements in Compressed Sparse Row format>,\n",
       " array([1, 1, 0, ..., 1, 1, 1], dtype=int64),\n",
       " array([1, 0, 1, ..., 1, 1, 1], dtype=int64))"
      ]
     },
     "execution_count": 9,
     "metadata": {},
     "output_type": "execute_result"
    }
   ],
   "source": [
    "from sklearn.naive_bayes import MultinomialNB\n",
    "\n",
    "def subject_model(feature=\"set\",n=-1):\n",
    "    data_dir = \"subject_feature\"\n",
    "\n",
    "    set_vectorizer_filename=   data_dir+\"/{}_vectorizer.p\".format(feature)\n",
    "    set_features_filename=     data_dir+\"/{}_features.p\".format(feature)\n",
    "    labels_filename=     data_dir+\"/labels.p\"\n",
    "\n",
    "    X_set=pickle.load(open( set_features_filename, \"rb\" ) )\n",
    "    labels=pickle.load(open( labels_filename, \"rb\" ) )\n",
    "    \n",
    "    if n!=-1:\n",
    "        labels=labels[:n]\n",
    "        X_set=X_set[:n]\n",
    "    \n",
    "    x_train,x_test,y_train,y_test=train_test_split(X_set,labels,shuffle=True,random_state=42,test_size=0.15)\n",
    "    \n",
    "    # Select the best hyper param alpha\n",
    "    alphalst=[1e-4,1e-3,0.1,1,10,100,1000]\n",
    "    auclst=[]\n",
    "    accuracylst=[]\n",
    "    for a in alphalst:\n",
    "        model=MultinomialNB(alpha=a)\n",
    "        cross_result=cross_validate(model,x_train,y_train,scoring=[\"roc_auc\",\"accuracy\"],cv=5,return_train_score=True,n_jobs=-1)\n",
    "        auclst.append(cross_result['test_roc_auc'].mean())\n",
    "        accuracylst.append(cross_result['test_accuracy'].mean())\n",
    "\n",
    "    print(\"{} feature: \".format(feature))\n",
    "    print(auclst)\n",
    "    print(\"The best alpha is\",alphalst[np.argmax(auclst)])\n",
    "    \n",
    "    print(\"The 5-fold auc of NB is\",np.max(auclst))\n",
    "    print(\"The 5-fold accuracy of NB is\",accuracylst[np.argmax(auclst)])\n",
    "    \n",
    "    model=MultinomialNB(alpha=alphalst[np.argmax(auclst)])\n",
    "    model.fit(x_train,y_train)\n",
    "    Y_pred=model.predict_proba(x_test)\n",
    "    print(\"auc on test set is\",roc_auc_score(y_test,Y_pred[:,1]))\n",
    "    print(\"Accuracy on test set is\",np.mean(model.predict(x_test)==y_test))\n",
    "    \n",
    "    return x_train,x_test,y_train,y_test\n",
    "    \n",
    "print(\"----------------------------------------------------------------\")\n",
    "subject_model(feature=\"set\",n=10000)\n",
    "print(\"----------------------------------------------------------------\")\n",
    "subject_model(feature=\"count\",n=10000)\n",
    "print(\"----------------------------------------------------------------\")\n",
    "subject_model(feature=\"tfidf\",n=10000)"
   ]
  },
  {
   "cell_type": "markdown",
   "metadata": {},
   "source": [
    "# Logistic"
   ]
  },
  {
   "cell_type": "code",
   "execution_count": 11,
   "metadata": {},
   "outputs": [
    {
     "name": "stdout",
     "output_type": "stream",
     "text": [
      "----------------------------------------------------------------\n",
      "set feature: \n",
      "[0.97643157 0.95783366 0.94494609 0.90969739 0.85912073]\n",
      "The best alpha is 1\n",
      "The best gamma is 0.1\n",
      "The 5-fold auc is 0.9764315660633169\n",
      "The 5-fold acc is 0.915764705882353\n",
      "auc on test set is 0.9822171578081239\n",
      "Accuracy on test set is 0.9233333333333333\n",
      "----------------------------------------------------------------\n",
      "count feature: \n",
      "[0.97678289 0.96158607 0.94235695 0.90664906 0.85706971]\n",
      "The best alpha is 1\n",
      "The best gamma is 0.1\n",
      "The 5-fold auc is 0.9767828877063442\n",
      "The 5-fold acc is 0.9156470588235294\n",
      "auc on test set is 0.9823170905806224\n",
      "Accuracy on test set is 0.924\n",
      "----------------------------------------------------------------\n",
      "tfidf feature: \n",
      "[0.96400107 0.96853357 0.97242232 0.95806268 0.95322456]\n",
      "The best alpha is 1\n",
      "The best gamma is 1\n",
      "The 5-fold auc is 0.9724223219823693\n",
      "The 5-fold acc is 0.9342352941176472\n",
      "auc on test set is 0.9761433217653577\n",
      "Accuracy on test set is 0.938\n"
     ]
    },
    {
     "data": {
      "text/plain": [
       "(<8500x36750 sparse matrix of type '<class 'numpy.float64'>'\n",
       " \twith 37516 stored elements in Compressed Sparse Row format>,\n",
       " <1500x36750 sparse matrix of type '<class 'numpy.float64'>'\n",
       " \twith 6438 stored elements in Compressed Sparse Row format>,\n",
       " array([1, 1, 0, ..., 1, 1, 1], dtype=int64),\n",
       " array([1, 0, 1, ..., 1, 1, 1], dtype=int64))"
      ]
     },
     "execution_count": 11,
     "metadata": {},
     "output_type": "execute_result"
    }
   ],
   "source": [
    "from sklearn.linear_model import LogisticRegression\n",
    "\n",
    "def Logistic_subject_model(feature=\"set\",n=-1):\n",
    "    \n",
    "    # load subject features\n",
    "    data_dir = \"subject_feature\"\n",
    "\n",
    "    set_vectorizer_filename=   data_dir+\"/{}_vectorizer.p\".format(feature)\n",
    "    set_features_filename=     data_dir+\"/{}_features.p\".format(feature)\n",
    "    labels_filename=     data_dir+\"/labels.p\"\n",
    "\n",
    "    labels=pickle.load(open( labels_filename, \"rb\" ) )\n",
    "    X_set_subject=pickle.load(open( set_features_filename, \"rb\" ) )\n",
    "    \n",
    "    if n!=-1:\n",
    "        labels=labels[:n]\n",
    "        X_set_subject=X_set_subject[:n]\n",
    "    \n",
    "    # split train and test data set\n",
    "    x_train,x_test,y_train,y_test=train_test_split(X_set_subject,labels,shuffle=True,random_state=42,test_size=0.15)\n",
    "    \n",
    "    # Select the best hyper param alpha\n",
    "    alphalst=[1e-4,1e-3,0.1,1,10,100,1000]\n",
    "    gammalst=[]\n",
    "    auclst=[]\n",
    "    accuracylst=[]\n",
    "    modellst=[]\n",
    "    for a in alphalst:\n",
    "        model=LogisticRegression(C=a)\n",
    "        cross_result=cross_validate(model,x_train,y_train,scoring=[\"roc_auc\",\"accuracy\"],cv=5,return_train_score=True,n_jobs=-1)\n",
    "        auclst.append(cross_result['test_roc_auc'].mean())\n",
    "        accuracylst.append(cross_result['test_accuracy'].mean())\n",
    "        modellst.append(model)\n",
    "\n",
    "    print(\"{} feature: \".format(feature))\n",
    "    print(auclst)\n",
    "    print(\"The best C is\",alphalst[np.argmax(auclst)])\n",
    "    \n",
    "    print(\"The 5-fold auc is\",np.max(auclst))\n",
    "    print(\"The 5-fold accuracy is\",accuracylst[np.argmax(auclst)])\n",
    "    \n",
    "    model=LogisticRegression(C=np.max(auclst))\n",
    "    model.fit(x_train,y_train)\n",
    "    Y_pred=model.predict_proba(x_test)\n",
    "    print(\"auc on test set is\",roc_auc_score(y_test,Y_pred[:,1]))\n",
    "    print(\"Accuracy on test set is\",np.mean(model.predict(x_test)==y_test))\n",
    "    \n",
    "    return x_train,x_test,y_train,y_test\n",
    "\n",
    "print(\"----------------------------------------------------------------\")\n",
    "SVM_subject_model(feature=\"set\",n=10000)\n",
    "print(\"----------------------------------------------------------------\")\n",
    "SVM_subject_model(feature=\"count\",n=10000)\n",
    "print(\"----------------------------------------------------------------\")\n",
    "SVM_subject_model(feature=\"tfidf\",n=10000)"
   ]
  },
  {
   "cell_type": "markdown",
   "metadata": {},
   "source": [
    "# KNN"
   ]
  },
  {
   "cell_type": "code",
   "execution_count": 14,
   "metadata": {},
   "outputs": [
    {
     "name": "stdout",
     "output_type": "stream",
     "text": [
      "----------------------------------------------------------------\n",
      "set feature: \n",
      "[0.7593091  0.92012413 0.87928582 0.87379267 0.8594593  0.83961441\n",
      " 0.83029565 0.84899393]\n",
      "The best n_neighbors is 3\n",
      "The 5-fold auc is 0.9201241294250279\n",
      "The 5-fold acc is 0.8828235294117647\n",
      "auc on test set is 0.9382168878598554\n",
      "Accuracy on test set is 0.8806666666666667\n",
      "----------------------------------------------------------------\n",
      "count feature: \n",
      "[0.76147424 0.92144812 0.88491777 0.87905236 0.86781636 0.84745339\n",
      " 0.82665201 0.85861654]\n",
      "The best n_neighbors is 3\n",
      "The 5-fold auc is 0.921448118373932\n",
      "The 5-fold acc is 0.884470588235294\n",
      "auc on test set is 0.9386114276369922\n",
      "Accuracy on test set is 0.8793333333333333\n",
      "----------------------------------------------------------------\n",
      "tfidf feature: \n",
      "[0.75373099 0.89472195 0.81983488 0.81012887 0.79539486 0.76370638\n",
      " 0.72328621 0.71020662]\n",
      "The best n_neighbors is 3\n",
      "The 5-fold auc is 0.8947219468127114\n",
      "The 5-fold acc is 0.884705882352941\n",
      "auc on test set is 0.9239719253800689\n",
      "Accuracy on test set is 0.852\n"
     ]
    },
    {
     "data": {
      "text/plain": [
       "(<8500x36750 sparse matrix of type '<class 'numpy.float64'>'\n",
       " \twith 37516 stored elements in Compressed Sparse Row format>,\n",
       " <1500x36750 sparse matrix of type '<class 'numpy.float64'>'\n",
       " \twith 6438 stored elements in Compressed Sparse Row format>,\n",
       " array([1, 1, 0, ..., 1, 1, 1], dtype=int64),\n",
       " array([1, 0, 1, ..., 1, 1, 1], dtype=int64))"
      ]
     },
     "execution_count": 14,
     "metadata": {},
     "output_type": "execute_result"
    }
   ],
   "source": [
    "from sklearn.neighbors import KNeighborsClassifier\n",
    "\n",
    "def KNN_subject_model(feature=\"set\",n=-1):\n",
    "    \n",
    "    # load subject features\n",
    "    data_dir = \"subject_feature\"\n",
    "\n",
    "    set_vectorizer_filename=   data_dir+\"/{}_vectorizer.p\".format(feature)\n",
    "    set_features_filename=     data_dir+\"/{}_features.p\".format(feature)\n",
    "    labels_filename=     data_dir+\"/labels.p\"\n",
    "\n",
    "    labels=pickle.load(open( labels_filename, \"rb\" ) )\n",
    "    X_set_subject=pickle.load(open( set_features_filename, \"rb\" ) )\n",
    "    \n",
    "    if n!=-1:\n",
    "        labels=labels[:n]\n",
    "        X_set_subject=X_set_subject[:n]\n",
    "    \n",
    "    # split train and test data set\n",
    "    x_train,x_test,y_train,y_test=train_test_split(X_set_subject,labels,shuffle=True,random_state=42,test_size=0.15)\n",
    "    \n",
    "    # Select the best hyper param alpha\n",
    "    param_grid={\"n_neighbors\":[1,3,5,7,10,20,50,100] }\n",
    "    model=KNeighborsClassifier()\n",
    "    g=GridSearchCV(model,param_grid,cv=5, scoring=[\"roc_auc\",\"accuracy\"],n_jobs=-1,refit=\"roc_auc\")\n",
    "    g.fit(x_train, y_train)\n",
    "    \n",
    "    print(\"{} feature: \".format(feature))\n",
    "    print(g.cv_results_['mean_test_roc_auc'])\n",
    "    print(\"The best n_neighbors is\",g.best_estimator_.get_params()[\"n_neighbors\"])\n",
    "    print(\"The 5-fold auc is\",g.cv_results_['mean_test_roc_auc'].max())\n",
    "    print(\"The 5-fold acc is\",g.cv_results_['mean_test_accuracy'].max())\n",
    "    \n",
    "    Y_pred=g.best_estimator_.predict_proba(x_test)\n",
    "    print(\"auc on test set is\",roc_auc_score(y_test,Y_pred[:,1]))\n",
    "    print(\"Accuracy on test set is\",np.mean(g.best_estimator_.predict(x_test)==y_test))\n",
    "\n",
    "    return x_train,x_test,y_train,y_test\n",
    "\n",
    "print(\"----------------------------------------------------------------\")\n",
    "KNN_subject_model(feature=\"set\",n=10000)\n",
    "print(\"----------------------------------------------------------------\")\n",
    "KNN_subject_model(feature=\"count\",n=10000)\n",
    "print(\"----------------------------------------------------------------\")\n",
    "KNN_subject_model(feature=\"tfidf\",n=10000)"
   ]
  },
  {
   "cell_type": "code",
   "execution_count": null,
   "metadata": {},
   "outputs": [],
   "source": []
  }
 ],
 "metadata": {
  "kernelspec": {
   "display_name": "Python (py3)",
   "language": "python",
   "name": "py3"
  },
  "language_info": {
   "codemirror_mode": {
    "name": "ipython",
    "version": 3
   },
   "file_extension": ".py",
   "mimetype": "text/x-python",
   "name": "python",
   "nbconvert_exporter": "python",
   "pygments_lexer": "ipython3",
   "version": "3.6.5"
  }
 },
 "nbformat": 4,
 "nbformat_minor": 2
}
