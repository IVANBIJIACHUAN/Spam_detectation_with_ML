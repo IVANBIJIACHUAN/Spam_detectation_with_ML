{
 "cells": [
  {
   "cell_type": "markdown",
   "metadata": {},
   "source": [
    "# LSTM"
   ]
  },
  {
   "cell_type": "code",
   "execution_count": 31,
   "metadata": {},
   "outputs": [],
   "source": [
    "import numpy as np\n",
    "import pandas as pd\n",
    "import pickle\n",
    "\n",
    "from nltk.tokenize import word_tokenize\n",
    "from nltk.stem.porter import PorterStemmer\n",
    "from nltk.corpus import stopwords\n",
    "import nltk\n",
    "\n",
    "from keras.preprocessing.text import Tokenizer\n",
    "from keras.preprocessing.sequence import pad_sequences\n",
    "from keras.models import Sequential\n",
    "from keras.layers import LSTM, Dense, Activation, Embedding, SimpleRNN\n",
    "from keras.callbacks import EarlyStopping\n",
    "from keras.models import load_model\n",
    "\n",
    "import tensorflow as tf\n",
    "\n",
    "from sklearn.model_selection import train_test_split, cross_validate\n",
    "from sklearn.metrics import roc_auc_score,roc_curve,auc\n",
    "\n",
    "import sys \n",
    "sys.path.append(\"../\")\n",
    "import text"
   ]
  },
  {
   "cell_type": "code",
   "execution_count": 10,
   "metadata": {},
   "outputs": [
    {
     "data": {
      "text/plain": [
       "[PhysicalDevice(name='/physical_device:GPU:0', device_type='GPU')]"
      ]
     },
     "execution_count": 10,
     "metadata": {},
     "output_type": "execute_result"
    }
   ],
   "source": [
    "# This bit of configuration magic is required by some GPUs and not others.\n",
    "# this assumes there is only one gpu, change accordingly if you have more\n",
    "physical_devices = tf.config.experimental.list_physical_devices('GPU')\n",
    "if  len(physical_devices) > 0:\n",
    "    tf.config.experimental.set_memory_growth(physical_devices[0], True)\n",
    "    assert tf.config.experimental.get_memory_growth(physical_devices[0]) == True\n",
    "physical_devices"
   ]
  },
  {
   "cell_type": "code",
   "execution_count": 11,
   "metadata": {},
   "outputs": [
    {
     "data": {
      "text/plain": [
       "0        b'user id enrondlr\\npw bnaweb22\\n\\n\\n -- -- -o...\n",
       "1        b'\\nhi chri \\n\\ntonight roll new report curren...\n",
       "2        b'rika r new \\n\\n -- -- -origin messag -- -- -...\n",
       "3        b'john/gerald \\n\\nwe current trade gtc spot co...\n",
       "4        b'gerald staci -\\n\\nattach worksheet new maste...\n",
       "                               ...                        \n",
       "85198    b'www.loveinfashion.com\\r\\nusername=custom pas...\n",
       "85199    b'www.loveinfashion.com\\r\\nusername=custom pas...\n",
       "85200    b'www.loveinfashion.com\\r\\nusername=custom pas...\n",
       "85201    b'www.loveinfashion.com\\r\\nusername=custom pas...\n",
       "85202    b'www.loveinfashion.com\\r\\nusername=custom pas...\n",
       "Name: body, Length: 85203, dtype: object"
      ]
     },
     "execution_count": 11,
     "metadata": {},
     "output_type": "execute_result"
    }
   ],
   "source": [
    "# porter_stemmer = PorterStemmer()\n",
    "# stop_words=list(text.stop_words())\n",
    "# def stem_tokenizer(text):\n",
    "#     words=[porter_stemmer.stem(token) for token in word_tokenize(text.lower())]\n",
    "#     return \" \".join([w for w in words if w not in stop_words])\n",
    "\n",
    "# messages=EmailInfo[\"body\"]\n",
    "# for i in range(len(messages)):\n",
    "#     messages[i]=stem_tokenizer(str(messages[i]))\n",
    "#     if i%10000==0:\n",
    "#         print(\"{} done.\".format(i))\n",
    "    \n",
    "# messages\n",
    "\n",
    "import pandas as pd\n",
    "\n",
    "messages=pd.read_csv(\"../message_body_stem.csv\",index_col=[0])\n",
    "messages=messages[\"body\"]\n",
    "messages"
   ]
  },
  {
   "cell_type": "code",
   "execution_count": 12,
   "metadata": {},
   "outputs": [
    {
     "data": {
      "text/plain": [
       "78848"
      ]
     },
     "execution_count": 12,
     "metadata": {},
     "output_type": "execute_result"
    },
    {
     "data": {
      "image/png": "[encoded data removed]",
      "text/plain": [
       "<Figure size 432x288 with 1 Axes>"
      ]
     },
     "metadata": {
      "needs_background": "light"
     },
     "output_type": "display_data"
    }
   ],
   "source": [
    "%matplotlib inline\n",
    "lens=[]\n",
    "for mes in messages:\n",
    "    if len(mes)<4000:\n",
    "        lens.append(len(mes))\n",
    "lens=pd.DataFrame({\"length\":lens})\n",
    "lens.hist()\n",
    "len(lens)"
   ]
  },
  {
   "cell_type": "code",
   "execution_count": 13,
   "metadata": {},
   "outputs": [],
   "source": [
    "max_vocab=600000\n",
    "max_len=2000\n",
    "\n",
    "tokenizer = Tokenizer(num_words=max_vocab)\n",
    "tokenizer.fit_on_texts(messages)\n",
    "sequences = tokenizer.texts_to_sequences(messages)\n",
    "word_index = tokenizer.word_index\n",
    "data = pad_sequences(sequences, maxlen=max_len)\n",
    "\n",
    "with open(\"./message_feature/vectokenizer.p\",\"wb\") as f:\n",
    "    pickle.dump(tokenizer,f)\n",
    "\n",
    "EmailInfo=pd.read_csv(\"../email_05.csv\")\n",
    "labels05=pd.get_dummies(EmailInfo[\"spam\"]).values"
   ]
  },
  {
   "cell_type": "markdown",
   "metadata": {},
   "source": [
    "# Test Data"
   ]
  },
  {
   "cell_type": "code",
   "execution_count": 14,
   "metadata": {},
   "outputs": [],
   "source": [
    "email06=pd.read_csv(\"../email_06.csv\")\n",
    "labels06=pd.get_dummies(email06[\"spam\"]).values"
   ]
  },
  {
   "cell_type": "code",
   "execution_count": 15,
   "metadata": {},
   "outputs": [],
   "source": [
    "# porter_stemmer = PorterStemmer()\n",
    "# stop_words=list(text.stop_words())\n",
    "\n",
    "# def stem_tokenizer(text):\n",
    "#     words=[porter_stemmer.stem(token) for token in word_tokenize(text.lower())]\n",
    "#     return \" \".join([w for w in words if w not in stop_words])\n",
    "\n",
    "# messages=email06[\"body\"]#len(messages)\n",
    "# for i in range(len(messages)):\n",
    "#     messages[i]=stem_tokenizer(str(messages[i]))\n",
    "#     if i%10000==0:\n",
    "#         print(\"{} done.\".format(i))\n",
    "\n",
    "# messages=messages.to_csv(\"../message_body_stem06.csv\")"
   ]
  },
  {
   "cell_type": "code",
   "execution_count": 16,
   "metadata": {},
   "outputs": [
    {
     "data": {
      "text/plain": [
       "0        b'the mail list queri week ago and\\nrun also s...\n",
       "1        b \\n \\n luxuri watch buy rolex 219 \\n \\n rolex...\n",
       "2        b '' academ qualif avail prestigi non-acc redi...\n",
       "3        b'greet verifi subscript plan9-fans\\nlist char...\n",
       "4        b'tri chauncey may confer lusciou continu tons...\n",
       "                               ...                        \n",
       "35283    b'great news expec ted \\n\\ninfinex ventur inc....\n",
       "35284    b'the oil sector go crazi weekli gift \\n\\nget ...\n",
       "35285    b '' http //vdtobj.docscan.info/ 23759301\\n\\ns...\n",
       "35286    b '' u n v e r p l s\\n\\ndo want prosper futur ...\n",
       "35287    b'but moat coveral cytochemistri planeload sal...\n",
       "Name: body, Length: 35288, dtype: object"
      ]
     },
     "execution_count": 16,
     "metadata": {},
     "output_type": "execute_result"
    }
   ],
   "source": [
    "messages=pd.read_csv(\"../message_body_stem06.csv\",index_col=[0],header=None,names=[\"body\"])\n",
    "messages=messages[\"body\"]\n",
    "messages"
   ]
  },
  {
   "cell_type": "code",
   "execution_count": 17,
   "metadata": {},
   "outputs": [
    {
     "data": {
      "text/plain": [
       "33062"
      ]
     },
     "execution_count": 17,
     "metadata": {},
     "output_type": "execute_result"
    },
    {
     "data": {
      "image/png": "[encoded data removed]",
      "text/plain": [
       "<Figure size 432x288 with 1 Axes>"
      ]
     },
     "metadata": {
      "needs_background": "light"
     },
     "output_type": "display_data"
    }
   ],
   "source": [
    "%matplotlib inline\n",
    "lens=[]\n",
    "for mes in messages:\n",
    "    if len(mes)<4000:\n",
    "        lens.append(len(mes))\n",
    "lens=pd.DataFrame({\"length\":lens})\n",
    "lens.hist()\n",
    "len(lens)"
   ]
  },
  {
   "cell_type": "code",
   "execution_count": 18,
   "metadata": {},
   "outputs": [],
   "source": [
    "with open(\"./message_feature/vectokenizer.p\",\"rb\") as f:\n",
    "    tokenizer=pickle.load(f)\n",
    "\n",
    "sequences = tokenizer.texts_to_sequences(messages)\n",
    "word_index = tokenizer.word_index\n",
    "data06 = pad_sequences(sequences, maxlen=max_len)"
   ]
  },
  {
   "cell_type": "markdown",
   "metadata": {},
   "source": [
    "# model"
   ]
  },
  {
   "cell_type": "code",
   "execution_count": 19,
   "metadata": {},
   "outputs": [],
   "source": [
    "import pickle\n",
    "import datetime\n",
    "import time\n",
    "\n",
    "%matplotlib inline\n",
    "\n",
    "import sys\n",
    "sys.path.append(\"../\")\n",
    "from notebook_utils import get_logger,LoggingCallback\n",
    "\n",
    "# helper routing to log a message with time\n",
    "def log_message( label_string ):\n",
    "    ts = time.time()\n",
    "    st = datetime.datetime.fromtimestamp( ts ).strftime( '%Y-%m-%d %H:%M:%S:%f' )\n",
    "    print(\"{}: {}\".format(st, label_string))\n",
    "    with open(\"training_log.txt\",\"a\") as f:\n",
    "        f.write(\"{}: {}\\n\".format(st, label_string))\n",
    "\n",
    "def auroc(y_true, y_pred):\n",
    "    return tf.compat.v1.py_func(roc_auc_score, (y_true, y_pred), tf.double)\n",
    "\n",
    "def LSTM_train(x_train, y_train, x_val, y_val, embedding_mat_columns,name):\n",
    "    \n",
    "    model = Sequential()\n",
    "    model.add(Embedding(input_dim=max_vocab,output_dim=embedding_mat_columns,input_length=max_len))\n",
    "    model.add(LSTM(units=embedding_mat_columns,return_sequences=True))\n",
    "    model.add(LSTM(units=embedding_mat_columns))\n",
    "    model.add(Dense(2, activation='softmax'))\n",
    "    model.compile(optimizer='adam', loss='categorical_crossentropy',metrics=['acc', auroc])\n",
    "\n",
    "    early_stopping = EarlyStopping(monitor='val_loss', patience=10, mode=\"min\", verbose=2, restore_best_weights=True)\n",
    "    result=model.fit(x_train, y_train, epochs=100, batch_size=batchsize, validation_data=(x_val, y_val), \n",
    "                     callbacks=[early_stopping,LoggingCallback(3,logger)])\n",
    "    \n",
    "    model.save(\"./models/LSTM_model_{}.format(name)\")\n",
    "    \n",
    "    with open(\"./models/LSTM_result_{}.p\".format(name),\"wb\") as f:\n",
    "        pickle.dump(result.history,f)\n",
    "\n",
    "def train_all(model,x_train,y_train,x_test,y_test,embedding_mat_columns,name):\n",
    "    log_message( \"start\" )\n",
    "    model(x_train,y_train,x_test,y_test,embedding_mat_columns,name)\n",
    "    log_message( \"end\" )"
   ]
  },
  {
   "cell_type": "code",
   "execution_count": 20,
   "metadata": {},
   "outputs": [
    {
     "data": {
      "text/plain": [
       "((85203, 2000), (85203, 2), (35288, 2000), (35288, 2))"
      ]
     },
     "execution_count": 20,
     "metadata": {},
     "output_type": "execute_result"
    }
   ],
   "source": [
    "x_train=data\n",
    "y_train=labels05\n",
    "x_test=data06\n",
    "y_test=labels06\n",
    "np.mean(y_test,axis=0),np.mean(y_train,axis=0)\n",
    "x_train.shape,y_train.shape,x_test.shape,y_test.shape"
   ]
  },
  {
   "cell_type": "code",
   "execution_count": null,
   "metadata": {},
   "outputs": [
    {
     "name": "stdout",
     "output_type": "stream",
     "text": [
      "2020-04-26 02:50:10:313321: start\n"
     ]
    },
    {
     "name": "stderr",
     "output_type": "stream",
     "text": [
      "/home/jb4360/anaconda3/lib/python3.7/site-packages/tensorflow_core/python/framework/indexed_slices.py:433: UserWarning: Converting sparse IndexedSlices to a dense Tensor of unknown shape. This may consume a large amount of memory.\n",
      "  \"Converting sparse IndexedSlices to a dense Tensor of unknown shape. \"\n"
     ]
    },
    {
     "name": "stdout",
     "output_type": "stream",
     "text": [
      "Train on 85203 samples, validate on 35288 samples\n",
      "Epoch 1/100\n",
      "85203/85203 [==============================] - 2853s 33ms/step - loss: 0.2974 - acc: 0.8674 - auroc: 0.9374 - val_loss: 0.3577 - val_acc: 0.8656 - val_auroc: 0.9131\n",
      "2020-04-26 03:37:45|\t0: TRAIN loss 0.29742207  ||  VAL loss 0.35768166\n",
      "Epoch 2/100\n",
      "85203/85203 [==============================] - 2829s 33ms/step - loss: 0.1590 - acc: 0.9507 - auroc: 0.9752 - val_loss: 0.4734 - val_acc: 0.8331 - val_auroc: 0.9073\n",
      "Epoch 3/100\n",
      "85203/85203 [==============================] - 2890s 34ms/step - loss: 0.1396 - acc: 0.9545 - auroc: 0.9822 - val_loss: 0.3782 - val_acc: 0.8416 - val_auroc: 0.9098\n",
      "Epoch 4/100\n",
      "  128/85203 [..............................] - ETA: 45:15 - loss: 0.0887 - acc: 0.9688 - auroc: 0.9968"
     ]
    }
   ],
   "source": [
    "batchsize=128\n",
    "name=\"message_body_1\"\n",
    "logger=get_logger(\"LSTM_{}.log\".format(name))\n",
    "train_all(LSTM_train,x_train,y_train,x_test,y_test,embedding_mat_columns=128,name=name)"
   ]
  },
  {
   "cell_type": "code",
   "execution_count": 48,
   "metadata": {},
   "outputs": [
    {
     "data": {
      "text/plain": [
       "<matplotlib.legend.Legend at 0x7f885d5e7550>"
      ]
     },
     "execution_count": 48,
     "metadata": {},
     "output_type": "execute_result"
    },
    {
     "data": {
      "image/png": "[encoded data removed]",
      "text/plain": [
       "<Figure size 864x432 with 2 Axes>"
      ]
     },
     "metadata": {
      "needs_background": "light"
     },
     "output_type": "display_data"
    }
   ],
   "source": [
    "import matplotlib.pyplot as plt\n",
    "\n",
    "def auroc(y_true, y_pred):\n",
    "    return tf.compat.v1.py_func(roc_auc_score, (y_true, y_pred), tf.double)\n",
    "\n",
    "with open(\"./models/LSTM_result_{}.p\".format(name),\"rb\") as f:\n",
    "    result=pickle.load(f)\n",
    "    \n",
    "# model_name = \"./models/LSTM_model_{}\".format(name)\n",
    "# model = load_model(name, custom_objects={'auroc': auroc})\n",
    "\n",
    "history=result\n",
    "plt.figure(figsize=(12,6))\n",
    "plt.subplot(1, 2, 1)\n",
    "plt.plot(history[\"loss\"],label=\"Train loss\")\n",
    "plt.plot(history[\"val_loss\"],label=\"Test loss\")\n",
    "plt.title('Loss')\n",
    "plt.xlabel('epoch')\n",
    "plt.legend()\n",
    "\n",
    "plt.subplot(1, 2, 2)\n",
    "plt.plot(history[\"acc\"],label=\"Train accuracy\")\n",
    "plt.plot(history[\"val_acc\"],label=\"Test accuracy\")\n",
    "plt.title('Accuracy')\n",
    "plt.xlabel('epoch')\n",
    "plt.legend()"
   ]
  },
  {
   "cell_type": "code",
   "execution_count": 22,
   "metadata": {},
   "outputs": [
    {
     "name": "stderr",
     "output_type": "stream",
     "text": [
      "/home/jb4360/anaconda3/lib/python3.7/site-packages/tensorflow_core/python/framework/indexed_slices.py:433: UserWarning: Converting sparse IndexedSlices to a dense Tensor of unknown shape. This may consume a large amount of memory.\n",
      "  \"Converting sparse IndexedSlices to a dense Tensor of unknown shape. \"\n"
     ]
    }
   ],
   "source": [
    "def auroc(y_true, y_pred):\n",
    "    return tf.compat.v1.py_func(roc_auc_score, (y_true, y_pred), tf.double)\n",
    "\n",
    "name=\"message_body_1\"\n",
    "model_name = \"./models/LSTM_model_{}\"\n",
    "model = load_model(model_name, custom_objects={'auroc': auroc})\n",
    "\n",
    "y_pred=model.predict(x_test)"
   ]
  },
  {
   "cell_type": "code",
   "execution_count": 32,
   "metadata": {},
   "outputs": [
    {
     "data": {
      "text/plain": [
       "<Figure size 432x288 with 0 Axes>"
      ]
     },
     "metadata": {},
     "output_type": "display_data"
    },
    {
     "data": {
      "image/png": "[encoded data removed]",
      "text/plain": [
       "<Figure size 360x360 with 1 Axes>"
      ]
     },
     "metadata": {
      "needs_background": "light"
     },
     "output_type": "display_data"
    }
   ],
   "source": [
    "import matplotlib.pyplot as plt\n",
    "\n",
    "fpr,tpr,threshold = roc_curve(y_test[:,1],y_pred[:,1])\n",
    "roc_auc = auc(fpr,tpr)\n",
    "\n",
    "plt.figure()\n",
    "lw = 2\n",
    "plt.figure(figsize=(5,5))\n",
    "plt.plot(fpr, tpr, color='darkorange',\n",
    "         lw=lw, label='ROC curve (area = %0.5f)' % roc_auc)\n",
    "plt.plot([0, 1], [0, 1], color='navy', lw=lw, linestyle='--')\n",
    "plt.xlim([0.0, 1.0])\n",
    "plt.ylim([0.0, 1.0])\n",
    "plt.xlabel('False Positive Rate')\n",
    "plt.ylabel('True Positive Rate')\n",
    "plt.title('ROC curve of LSTM')\n",
    "plt.legend(loc=\"lower right\")\n",
    "plt.savefig(\"roc_curve_LSTM.png\")\n",
    "plt.show()"
   ]
  },
  {
   "cell_type": "code",
   "execution_count": null,
   "metadata": {},
   "outputs": [],
   "source": []
  }
 ],
 "metadata": {
  "kernelspec": {
   "display_name": "Python 3",
   "language": "python",
   "name": "python3"
  },
  "language_info": {
   "codemirror_mode": {
    "name": "ipython",
    "version": 3
   },
   "file_extension": ".py",
   "mimetype": "text/x-python",
   "name": "python",
   "nbconvert_exporter": "python",
   "pygments_lexer": "ipython3",
   "version": "3.7.4"
  }
 },
 "nbformat": 4,
 "nbformat_minor": 2
}
